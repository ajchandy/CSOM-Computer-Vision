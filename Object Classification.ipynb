{
 "cells": [
  {
   "cell_type": "markdown",
   "metadata": {},
   "source": [
    "# Object Classification"
   ]
  },
  {
   "cell_type": "markdown",
   "metadata": {},
   "source": [
    "### Problem Statement"
   ]
  },
  {
   "cell_type": "markdown",
   "metadata": {},
   "source": [
    "In this tutorial, we shall train a model for classifying the digits using our own network, and then we shall how good/bad it is compared to the the one trained using transfer learning.\n",
    "\n",
    "We use the famous Digits Recoginition Challenge Dataset - MNIST readily avaliable from one of the frameworks. \n",
    "\n",
    "We shall follow the following steps: \n",
    "1. Load the Data (already split into train and test)\n",
    "2. Define a Convolutional Neural Network to train a Classification Problem for classifying fashion clothing\n",
    "3. Train a model using the training set\n",
    "4. Evluate the model on test set\n",
    "5. Repeat a similar approach for Tranfer Learning using a pre-trained model"
   ]
  },
  {
   "cell_type": "code",
   "execution_count": 108,
   "metadata": {},
   "outputs": [],
   "source": [
    "import tensorflow as tf\n",
    "import keras\n",
    "from keras.datasets import fashion_mnist\n",
    "import numpy as np\n",
    "import random\n",
    "import matplotlib.pyplot as plt\n",
    "%matplotlib inline\n",
    "tf.logging.set_verbosity(tf.logging.ERROR)"
   ]
  },
  {
   "cell_type": "code",
   "execution_count": 110,
   "metadata": {},
   "outputs": [],
   "source": [
    "# Load Data\n",
    "(x_train, y_train), (x_test, y_test) = fashion_mnist.load_data()\n",
    "\n",
    "x_train = x_train.reshape(60000,28,28,1)\n",
    "\n",
    "# Mention the Class Name List\n",
    "class_list = ['T-shirt/top', 'Trouser', 'Pullover', 'Dress', 'Coat',\n",
    "               'Sandal', 'Shirt', 'Sneaker', 'Bag', 'Ankle boot']\n",
    "\n",
    "# Convert a one-hot vector for the test-labels\n",
    "y_train = keras.utils.to_categorical(y_train, num_classes=len(class_list))\n",
    "\n",
    "\n",
    "# Split the test set to Validation & Test set\n",
    "num_test_samples = x_test.shape[0]\n",
    "x_val, y_val = x_test[0:num_test_samples//2,:,:], y_test[0:num_test_samples//2]\n",
    "x_test, y_test = x_test[num_test_samples//2:,:,:], y_test[num_test_samples//2:]\n",
    "\n",
    "x_val = x_val.reshape(5000,28,28,1)\n",
    "y_val = keras.utils.to_categorical(y_val, num_classes=len(class_list))\n",
    "\n",
    "x_test = x_test.reshape(5000,28,28,1)\n"
   ]
  },
  {
   "cell_type": "markdown",
   "metadata": {},
   "source": [
    "Here, We can see that we have 60000 images for training with 10 different class labels:<br>\n",
    "0   T-shirt/top <br>\n",
    "1   Trouser<br>\n",
    "2 \tPullover<br>\n",
    "3 \tDress<br>\n",
    "4 \tCoat<br>\n",
    "5 \tSandal<br>\n",
    "6 \tShirt<br>\n",
    "7 \tSneaker<br>\n",
    "8 \tBag<br>\n",
    "9 \tAnkle boot<br>"
   ]
  },
  {
   "cell_type": "code",
   "execution_count": 111,
   "metadata": {},
   "outputs": [
    {
     "data": {
      "text/plain": [
       "((60000, 28, 28, 1), (60000, 10))"
      ]
     },
     "execution_count": 111,
     "metadata": {},
     "output_type": "execute_result"
    }
   ],
   "source": [
    "# Train Data \n",
    "x_train.shape, y_train.shape"
   ]
  },
  {
   "cell_type": "code",
   "execution_count": 112,
   "metadata": {},
   "outputs": [
    {
     "data": {
      "text/plain": [
       "((5000, 28, 28, 1), (5000, 10))"
      ]
     },
     "execution_count": 112,
     "metadata": {},
     "output_type": "execute_result"
    }
   ],
   "source": [
    "# Validation Data\n",
    "x_val.shape, y_val.shape"
   ]
  },
  {
   "cell_type": "code",
   "execution_count": 113,
   "metadata": {},
   "outputs": [
    {
     "data": {
      "text/plain": [
       "<matplotlib.image.AxesImage at 0x1367afad0>"
      ]
     },
     "execution_count": 113,
     "metadata": {},
     "output_type": "execute_result"
    },
    {
     "data": {
      "image/png": "[encoded data removed]",
      "text/plain": [
       "<Figure size 432x288 with 1 Axes>"
      ]
     },
     "metadata": {
      "needs_background": "light"
     },
     "output_type": "display_data"
    }
   ],
   "source": [
    "num = random.randint(0,60000)\n",
    "class_fig = class_list[np.argmax(y_train[num])]\n",
    "\n",
    "plt.imshow(x_train[num].reshape(28,28))\n",
    "print(\"Class Name :{}\".format(class_fig))"
   ]
  },
  {
   "cell_type": "code",
   "execution_count": 114,
   "metadata": {},
   "outputs": [],
   "source": [
    "from keras.models import Sequential\n",
    "from keras.layers.normalization import BatchNormalization\n",
    "from keras.layers import Input, Conv2D, Activation, Dense, Flatten, MaxPooling2D\n",
    "\n",
    "# Writing the model\n",
    "model = Sequential()\n",
    "\n",
    "inputs = Input(shape=(28, 28))\n",
    "\n",
    "model.add(Conv2D(filters=32,kernel_size=3, strides=2,padding=\"same\"))\n",
    "model.add(BatchNormalization(axis=-1))\n",
    "model.add(Activation('relu'))\n",
    "model.add(MaxPooling2D(pool_size=(2,2), padding='valid'))\n",
    "\n",
    "model.add(Conv2D(filters=64,kernel_size=(3,3), strides=(2,2),padding=\"same\"))\n",
    "model.add(BatchNormalization(axis=-1))\n",
    "model.add(Activation('relu'))\n",
    "model.add(MaxPooling2D(pool_size=(2,2), padding='valid'))\n",
    "\n",
    "model.add(Conv2D(filters=128,kernel_size=(3,3), strides=(2,2),padding=\"same\"))\n",
    "model.add(BatchNormalization(axis=-1))\n",
    "model.add(Activation('relu'))\n",
    "\n",
    "model.add(Flatten())\n",
    "model.add(Dense(10,activation='softmax',use_bias=True))\n",
    "\n",
    "model.compile(loss='categorical_crossentropy',optimizer='adam',metrics=['accuracy'])"
   ]
  },
  {
   "cell_type": "code",
   "execution_count": 115,
   "metadata": {},
   "outputs": [
    {
     "name": "stdout",
     "output_type": "stream",
     "text": [
      "Train on 60000 samples, validate on 5000 samples\n",
      "Epoch 1/5\n",
      "60000/60000 [==============================] - 19s 314us/step - loss: 1.4006 - accuracy: 0.7575 - val_loss: 0.4771 - val_accuracy: 0.8274\n",
      "Epoch 2/5\n",
      "60000/60000 [==============================] - 18s 302us/step - loss: 0.3893 - accuracy: 0.8603 - val_loss: 0.4155 - val_accuracy: 0.8514\n",
      "Epoch 3/5\n",
      "60000/60000 [==============================] - 18s 304us/step - loss: 0.3411 - accuracy: 0.8769 - val_loss: 0.3944 - val_accuracy: 0.8638\n",
      "Epoch 4/5\n",
      "60000/60000 [==============================] - 18s 300us/step - loss: 0.3104 - accuracy: 0.8862 - val_loss: 0.3808 - val_accuracy: 0.8702\n",
      "Epoch 5/5\n",
      "60000/60000 [==============================] - 19s 324us/step - loss: 0.2878 - accuracy: 0.8947 - val_loss: 0.3958 - val_accuracy: 0.8632\n"
     ]
    },
    {
     "data": {
      "text/plain": [
       "<keras.callbacks.callbacks.History at 0x12c244350>"
      ]
     },
     "execution_count": 115,
     "metadata": {},
     "output_type": "execute_result"
    }
   ],
   "source": [
    "# Train the model\n",
    "model.fit(x_train, y_train, validation_data=(x_val,y_val), epochs=5)"
   ]
  },
  {
   "cell_type": "code",
   "execution_count": 119,
   "metadata": {},
   "outputs": [
    {
     "data": {
      "text/plain": [
       "87.24"
      ]
     },
     "execution_count": 119,
     "metadata": {},
     "output_type": "execute_result"
    }
   ],
   "source": [
    "# Predict on Test Set\n",
    "y_pred = model.predict_classes(x_test)\n",
    "acc = np.sum(y_test == y_pred) / y_test.shape[0]\n",
    "#Print Accuracy\n",
    "print(\"Test Accuracy :{}\".format(acc*100))"
   ]
  },
  {
   "cell_type": "code",
   "execution_count": 120,
   "metadata": {},
   "outputs": [
    {
     "name": "stdout",
     "output_type": "stream",
     "text": [
      "Model: \"sequential_21\"\n",
      "_________________________________________________________________\n",
      "Layer (type)                 Output Shape              Param #   \n",
      "=================================================================\n",
      "conv2d_42 (Conv2D)           (None, 14, 14, 32)        320       \n",
      "_________________________________________________________________\n",
      "activation_42 (Activation)   (None, 14, 14, 32)        0         \n",
      "_________________________________________________________________\n",
      "max_pooling2d_19 (MaxPooling (None, 7, 7, 32)          0         \n",
      "_________________________________________________________________\n",
      "conv2d_43 (Conv2D)           (None, 4, 4, 64)          18496     \n",
      "_________________________________________________________________\n",
      "activation_43 (Activation)   (None, 4, 4, 64)          0         \n",
      "_________________________________________________________________\n",
      "max_pooling2d_20 (MaxPooling (None, 2, 2, 64)          0         \n",
      "_________________________________________________________________\n",
      "conv2d_44 (Conv2D)           (None, 1, 1, 128)         73856     \n",
      "_________________________________________________________________\n",
      "activation_44 (Activation)   (None, 1, 1, 128)         0         \n",
      "_________________________________________________________________\n",
      "flatten_7 (Flatten)          (None, 128)               0         \n",
      "_________________________________________________________________\n",
      "dense_8 (Dense)              (None, 10)                1290      \n",
      "=================================================================\n",
      "Total params: 93,962\n",
      "Trainable params: 93,962\n",
      "Non-trainable params: 0\n",
      "_________________________________________________________________\n"
     ]
    }
   ],
   "source": [
    "model.summary()"
   ]
  }
 ],
 "metadata": {
  "kernelspec": {
   "display_name": "Python 3",
   "language": "python",
   "name": "python3"
  },
  "language_info": {
   "codemirror_mode": {
    "name": "ipython",
    "version": 3
   },
   "file_extension": ".py",
   "mimetype": "text/x-python",
   "name": "python",
   "nbconvert_exporter": "python",
   "pygments_lexer": "ipython3",
   "version": "3.7.4"
  }
 },
 "nbformat": 4,
 "nbformat_minor": 2
}
