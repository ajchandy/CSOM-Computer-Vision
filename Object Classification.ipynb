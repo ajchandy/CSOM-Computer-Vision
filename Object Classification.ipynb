{
 "cells": [
  {
   "cell_type": "markdown",
   "metadata": {},
   "source": [
    "# Object Classification"
   ]
  },
  {
   "cell_type": "markdown",
   "metadata": {},
   "source": [
    "### Problem Statement"
   ]
  },
  {
   "cell_type": "markdown",
   "metadata": {},
   "source": [
    "In this tutorial, we shall train a model for classifying the digits using our own network, and then we shall how good/bad it is compared to the the one trained using transfer learning.\n",
    "\n",
    "We use the famous Digits Recoginition Challenge Dataset - MNIST readily avaliable from one of the frameworks. \n",
    "\n",
    "We shall follow the following steps: \n",
    "1. Load the Data (already split into train and test)\n",
    "2. Define a Convolutional Neural Network to train a Classification Problem for classifying fashion clothing\n",
    "3. Train a model using the training set\n",
    "4. Evluate the model on test set\n",
    "5. Repeat a similar approach for Tranfer Learning using a pre-trained model"
   ]
  },
  {
   "cell_type": "code",
   "execution_count": 95,
   "metadata": {},
   "outputs": [],
   "source": [
    "import tensorflow as tf\n",
    "import keras\n",
    "from keras.datasets import fashion_mnist\n",
    "import numpy as np \n",
    "import cv2\n",
    "import random\n",
    "import matplotlib.pyplot as plt\n",
    "%matplotlib inline\n",
    "np.set_printoptions(precision=2, suppress=True)"
   ]
  },
  {
   "cell_type": "code",
   "execution_count": 96,
   "metadata": {},
   "outputs": [],
   "source": [
    "# Load Data\n",
    "(x_train, y_train), (x_test, y_test) = fashion_mnist.load_data()\n",
    "\n",
    "x_train = x_train.reshape(60000,28,28,1)\n",
    "\n",
    "# Mention the Class Name List\n",
    "class_list = ['T-shirt/top', 'Trouser', 'Pullover', 'Dress', 'Coat',\n",
    "               'Sandal', 'Shirt', 'Sneaker', 'Bag', 'Ankle boot']\n",
    "\n",
    "# Convert a one-hot vector for the test-labels\n",
    "y_train = keras.utils.to_categorical(y_train, num_classes=len(class_list))\n",
    "\n",
    "\n",
    "# Split the test set to Validation & Test set\n",
    "num_test_samples = x_test.shape[0]\n",
    "x_val, y_val = x_test[0:num_test_samples//2,:,:], y_test[0:num_test_samples//2]\n",
    "x_test, y_test = x_test[num_test_samples//2:,:,:], y_test[num_test_samples//2:]\n",
    "\n",
    "x_val = x_val.reshape(5000,28,28,1)\n",
    "y_val = keras.utils.to_categorical(y_val, num_classes=len(class_list))\n",
    "\n",
    "x_test = x_test.reshape(5000,28,28,1)\n",
    "# y_test = keras.utils.to_categorical(y_test, num_classes=len(class_list))\n"
   ]
  },
  {
   "cell_type": "markdown",
   "metadata": {},
   "source": [
    "Here, We can see that we have 60000 images for training with 10 different class labels:<br>\n",
    "0   T-shirt/top <br>\n",
    "1   Trouser<br>\n",
    "2 \tPullover<br>\n",
    "3 \tDress<br>\n",
    "4 \tCoat<br>\n",
    "5 \tSandal<br>\n",
    "6 \tShirt<br>\n",
    "7 \tSneaker<br>\n",
    "8 \tBag<br>\n",
    "9 \tAnkle boot<br>"
   ]
  },
  {
   "cell_type": "code",
   "execution_count": 97,
   "metadata": {},
   "outputs": [
    {
     "data": {
      "text/plain": [
       "((60000, 28, 28, 1), (60000, 10))"
      ]
     },
     "execution_count": 97,
     "metadata": {},
     "output_type": "execute_result"
    }
   ],
   "source": [
    "# Train Data \n",
    "x_train.shape, y_train.shape"
   ]
  },
  {
   "cell_type": "code",
   "execution_count": 98,
   "metadata": {},
   "outputs": [
    {
     "data": {
      "text/plain": [
       "((5000, 28, 28, 1), (5000, 10))"
      ]
     },
     "execution_count": 98,
     "metadata": {},
     "output_type": "execute_result"
    }
   ],
   "source": [
    "# Validation Data\n",
    "x_val.shape, y_val.shape"
   ]
  },
  {
   "cell_type": "code",
   "execution_count": 99,
   "metadata": {},
   "outputs": [
    {
     "data": {
      "text/plain": [
       "<matplotlib.image.AxesImage at 0x12a949fd0>"
      ]
     },
     "execution_count": 99,
     "metadata": {},
     "output_type": "execute_result"
    },
    {
     "data": {
      "image/png": "[encoded data removed]",
      "text/plain": [
       "<Figure size 432x288 with 1 Axes>"
      ]
     },
     "metadata": {
      "needs_background": "light"
     },
     "output_type": "display_data"
    }
   ],
   "source": [
    "plt.imshow(x_train[random.randint(0,60000)].reshape(28,28))"
   ]
  },
  {
   "cell_type": "code",
   "execution_count": 100,
   "metadata": {},
   "outputs": [],
   "source": [
    "from keras.models import Sequential\n",
    "from keras.layers.normalization import BatchNormalization\n",
    "from keras.layers import Input, Conv2D, Activation, Dense, Flatten, MaxPooling2D\n",
    "\n",
    "# Writing the model\n",
    "model = Sequential()\n",
    "\n",
    "inputs = Input(shape=(28, 28))\n",
    "\n",
    "model.add(Conv2D(filters=32,kernel_size=3, strides=2,padding=\"same\"))\n",
    "model.add(Activation('relu'))\n",
    "model.add(MaxPooling2D(pool_size=(2,2), padding='valid'))\n",
    "\n",
    "model.add(Conv2D(filters=64,kernel_size=(3,3), strides=(2,2),padding=\"same\"))\n",
    "model.add(Activation('relu'))\n",
    "model.add(MaxPooling2D(pool_size=(2,2), padding='valid'))\n",
    "\n",
    "model.add(Conv2D(filters=128,kernel_size=(3,3), strides=(2,2),padding=\"same\"))\n",
    "model.add(Activation('relu'))\n",
    "\n",
    "model.add(Flatten())\n",
    "# model.add(Dense(32,activation='relu',use_bias=True))\n",
    "model.add(Dense(10,activation='softmax',use_bias=True))\n",
    "\n",
    "model.compile(loss='categorical_crossentropy',optimizer='SGD',metrics=['accuracy'])"
   ]
  },
  {
   "cell_type": "code",
   "execution_count": 101,
   "metadata": {},
   "outputs": [
    {
     "name": "stdout",
     "output_type": "stream",
     "text": [
      "Train on 60000 samples, validate on 5000 samples\n",
      "Epoch 1/10\n",
      "60000/60000 [==============================] - 26s 426us/step - loss: 0.7264 - accuracy: 0.7790 - val_loss: 0.5045 - val_accuracy: 0.8142\n",
      "Epoch 2/10\n",
      "60000/60000 [==============================] - 28s 473us/step - loss: 0.3973 - accuracy: 0.8560 - val_loss: 0.4367 - val_accuracy: 0.8428\n",
      "Epoch 3/10\n",
      "60000/60000 [==============================] - 34s 563us/step - loss: 0.3471 - accuracy: 0.8723 - val_loss: 0.4000 - val_accuracy: 0.8574\n",
      "Epoch 4/10\n",
      "60000/60000 [==============================] - 30s 496us/step - loss: 0.3155 - accuracy: 0.8831 - val_loss: 0.4080 - val_accuracy: 0.8512\n",
      "Epoch 5/10\n",
      "60000/60000 [==============================] - 39s 649us/step - loss: 0.2956 - accuracy: 0.8903 - val_loss: 0.3684 - val_accuracy: 0.8736\n",
      "Epoch 6/10\n",
      "60000/60000 [==============================] - 41s 689us/step - loss: 0.2802 - accuracy: 0.8951 - val_loss: 0.4167 - val_accuracy: 0.8616\n",
      "Epoch 7/10\n",
      "60000/60000 [==============================] - 40s 671us/step - loss: 0.2642 - accuracy: 0.9011 - val_loss: 0.3787 - val_accuracy: 0.8648\n",
      "Epoch 8/10\n",
      "60000/60000 [==============================] - 39s 656us/step - loss: 0.2503 - accuracy: 0.9054 - val_loss: 0.3802 - val_accuracy: 0.8678\n",
      "Epoch 9/10\n",
      "60000/60000 [==============================] - 40s 664us/step - loss: 0.2395 - accuracy: 0.9099 - val_loss: 0.3807 - val_accuracy: 0.8736\n",
      "Epoch 10/10\n",
      "60000/60000 [==============================] - 40s 668us/step - loss: 0.2295 - accuracy: 0.9129 - val_loss: 0.4034 - val_accuracy: 0.8684\n"
     ]
    },
    {
     "data": {
      "text/plain": [
       "<keras.callbacks.callbacks.History at 0x12ab6fa90>"
      ]
     },
     "execution_count": 101,
     "metadata": {},
     "output_type": "execute_result"
    }
   ],
   "source": [
    "# Train the model\n",
    "model.fit(x_train, y_train, validation_data=(x_val,y_val), epochs=10)"
   ]
  },
  {
   "cell_type": "code",
   "execution_count": 103,
   "metadata": {},
   "outputs": [
    {
     "name": "stdout",
     "output_type": "stream",
     "text": [
      "(5000,) (5000,)\n"
     ]
    },
    {
     "data": {
      "text/plain": [
       "87.88"
      ]
     },
     "execution_count": 103,
     "metadata": {},
     "output_type": "execute_result"
    }
   ],
   "source": [
    "# Predict on Test Set\n",
    "y_pred = model.predict_classes(x_test)\n",
    "print(y_pred.shape, y_test.shape)\n",
    "acc = np.sum(y_test == y_pred) / y_test.shape[0]\n",
    "# np.set_printoptions(precision=2)\n",
    "#Print Accuracy\n",
    "acc*100"
   ]
  },
  {
   "cell_type": "code",
   "execution_count": null,
   "metadata": {},
   "outputs": [],
   "source": []
  },
  {
   "cell_type": "code",
   "execution_count": null,
   "metadata": {},
   "outputs": [],
   "source": []
  }
 ],
 "metadata": {
  "kernelspec": {
   "display_name": "Python 3",
   "language": "python",
   "name": "python3"
  },
  "language_info": {
   "codemirror_mode": {
    "name": "ipython",
    "version": 3
   },
   "file_extension": ".py",
   "mimetype": "text/x-python",
   "name": "python",
   "nbconvert_exporter": "python",
   "pygments_lexer": "ipython3",
   "version": "3.7.4"
  }
 },
 "nbformat": 4,
 "nbformat_minor": 2
}
